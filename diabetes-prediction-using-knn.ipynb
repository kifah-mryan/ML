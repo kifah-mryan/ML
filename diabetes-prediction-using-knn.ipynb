{
 "cells": [
  {
   "cell_type": "code",
   "execution_count": 1,
   "id": "83510aee",
   "metadata": {
    "_cell_guid": "b1076dfc-b9ad-4769-8c92-a6c4dae69d19",
    "_uuid": "8f2839f25d086af736a60e9eeb907d3b93b6e0e5",
    "execution": {
     "iopub.execute_input": "2023-01-05T00:16:42.529289Z",
     "iopub.status.busy": "2023-01-05T00:16:42.528443Z",
     "iopub.status.idle": "2023-01-05T00:16:43.665723Z",
     "shell.execute_reply": "2023-01-05T00:16:43.664459Z"
    },
    "papermill": {
     "duration": 1.152105,
     "end_time": "2023-01-05T00:16:43.668727",
     "exception": false,
     "start_time": "2023-01-05T00:16:42.516622",
     "status": "completed"
    },
    "tags": []
   },
   "outputs": [],
   "source": [
    "import pandas as pd\n",
    "import numpy as  np\n",
    "\n",
    "# visualization\n",
    "import seaborn as sns\n",
    "import matplotlib.pyplot as plt"
   ]
  },
  {
   "cell_type": "code",
   "execution_count": 2,
   "id": "1333d6cb",
   "metadata": {
    "execution": {
     "iopub.execute_input": "2023-01-05T00:16:43.687225Z",
     "iopub.status.busy": "2023-01-05T00:16:43.686797Z",
     "iopub.status.idle": "2023-01-05T00:16:43.691594Z",
     "shell.execute_reply": "2023-01-05T00:16:43.690742Z"
    },
    "papermill": {
     "duration": 0.016313,
     "end_time": "2023-01-05T00:16:43.693687",
     "exception": false,
     "start_time": "2023-01-05T00:16:43.677374",
     "status": "completed"
    },
    "tags": []
   },
   "outputs": [],
   "source": [
    "PATH = '/kaggle/input/pima-indians-diabetes-database/diabetes.csv'"
   ]
  },
  {
   "cell_type": "code",
   "execution_count": 3,
   "id": "2e83193e",
   "metadata": {
    "execution": {
     "iopub.execute_input": "2023-01-05T00:16:43.711051Z",
     "iopub.status.busy": "2023-01-05T00:16:43.710307Z",
     "iopub.status.idle": "2023-01-05T00:16:43.733940Z",
     "shell.execute_reply": "2023-01-05T00:16:43.732995Z"
    },
    "papermill": {
     "duration": 0.035068,
     "end_time": "2023-01-05T00:16:43.736458",
     "exception": false,
     "start_time": "2023-01-05T00:16:43.701390",
     "status": "completed"
    },
    "tags": []
   },
   "outputs": [],
   "source": [
    "data_df = pd.read_csv(PATH)"
   ]
  },
  {
   "cell_type": "code",
   "execution_count": 4,
   "id": "97832948",
   "metadata": {
    "execution": {
     "iopub.execute_input": "2023-01-05T00:16:43.754801Z",
     "iopub.status.busy": "2023-01-05T00:16:43.753333Z",
     "iopub.status.idle": "2023-01-05T00:16:43.775985Z",
     "shell.execute_reply": "2023-01-05T00:16:43.774866Z"
    },
    "papermill": {
     "duration": 0.034257,
     "end_time": "2023-01-05T00:16:43.778487",
     "exception": false,
     "start_time": "2023-01-05T00:16:43.744230",
     "status": "completed"
    },
    "tags": []
   },
   "outputs": [
    {
     "data": {
      "text/html": [
       "<div>\n",
       "<style scoped>\n",
       "    .dataframe tbody tr th:only-of-type {\n",
       "        vertical-align: middle;\n",
       "    }\n",
       "\n",
       "    .dataframe tbody tr th {\n",
       "        vertical-align: top;\n",
       "    }\n",
       "\n",
       "    .dataframe thead th {\n",
       "        text-align: right;\n",
       "    }\n",
       "</style>\n",
       "<table border=\"1\" class=\"dataframe\">\n",
       "  <thead>\n",
       "    <tr style=\"text-align: right;\">\n",
       "      <th></th>\n",
       "      <th>Pregnancies</th>\n",
       "      <th>Glucose</th>\n",
       "      <th>BloodPressure</th>\n",
       "      <th>SkinThickness</th>\n",
       "      <th>Insulin</th>\n",
       "      <th>BMI</th>\n",
       "      <th>DiabetesPedigreeFunction</th>\n",
       "      <th>Age</th>\n",
       "      <th>Outcome</th>\n",
       "    </tr>\n",
       "  </thead>\n",
       "  <tbody>\n",
       "    <tr>\n",
       "      <th>0</th>\n",
       "      <td>6</td>\n",
       "      <td>148</td>\n",
       "      <td>72</td>\n",
       "      <td>35</td>\n",
       "      <td>0</td>\n",
       "      <td>33.6</td>\n",
       "      <td>0.627</td>\n",
       "      <td>50</td>\n",
       "      <td>1</td>\n",
       "    </tr>\n",
       "    <tr>\n",
       "      <th>1</th>\n",
       "      <td>1</td>\n",
       "      <td>85</td>\n",
       "      <td>66</td>\n",
       "      <td>29</td>\n",
       "      <td>0</td>\n",
       "      <td>26.6</td>\n",
       "      <td>0.351</td>\n",
       "      <td>31</td>\n",
       "      <td>0</td>\n",
       "    </tr>\n",
       "    <tr>\n",
       "      <th>2</th>\n",
       "      <td>8</td>\n",
       "      <td>183</td>\n",
       "      <td>64</td>\n",
       "      <td>0</td>\n",
       "      <td>0</td>\n",
       "      <td>23.3</td>\n",
       "      <td>0.672</td>\n",
       "      <td>32</td>\n",
       "      <td>1</td>\n",
       "    </tr>\n",
       "    <tr>\n",
       "      <th>3</th>\n",
       "      <td>1</td>\n",
       "      <td>89</td>\n",
       "      <td>66</td>\n",
       "      <td>23</td>\n",
       "      <td>94</td>\n",
       "      <td>28.1</td>\n",
       "      <td>0.167</td>\n",
       "      <td>21</td>\n",
       "      <td>0</td>\n",
       "    </tr>\n",
       "    <tr>\n",
       "      <th>4</th>\n",
       "      <td>0</td>\n",
       "      <td>137</td>\n",
       "      <td>40</td>\n",
       "      <td>35</td>\n",
       "      <td>168</td>\n",
       "      <td>43.1</td>\n",
       "      <td>2.288</td>\n",
       "      <td>33</td>\n",
       "      <td>1</td>\n",
       "    </tr>\n",
       "  </tbody>\n",
       "</table>\n",
       "</div>"
      ],
      "text/plain": [
       "   Pregnancies  Glucose  BloodPressure  SkinThickness  Insulin   BMI  \\\n",
       "0            6      148             72             35        0  33.6   \n",
       "1            1       85             66             29        0  26.6   \n",
       "2            8      183             64              0        0  23.3   \n",
       "3            1       89             66             23       94  28.1   \n",
       "4            0      137             40             35      168  43.1   \n",
       "\n",
       "   DiabetesPedigreeFunction  Age  Outcome  \n",
       "0                     0.627   50        1  \n",
       "1                     0.351   31        0  \n",
       "2                     0.672   32        1  \n",
       "3                     0.167   21        0  \n",
       "4                     2.288   33        1  "
      ]
     },
     "execution_count": 4,
     "metadata": {},
     "output_type": "execute_result"
    }
   ],
   "source": [
    "data_df.head()"
   ]
  },
  {
   "cell_type": "code",
   "execution_count": 5,
   "id": "d9ac9254",
   "metadata": {
    "execution": {
     "iopub.execute_input": "2023-01-05T00:16:43.796022Z",
     "iopub.status.busy": "2023-01-05T00:16:43.795594Z",
     "iopub.status.idle": "2023-01-05T00:16:43.809586Z",
     "shell.execute_reply": "2023-01-05T00:16:43.808224Z"
    },
    "papermill": {
     "duration": 0.0255,
     "end_time": "2023-01-05T00:16:43.811917",
     "exception": false,
     "start_time": "2023-01-05T00:16:43.786417",
     "status": "completed"
    },
    "tags": []
   },
   "outputs": [
    {
     "data": {
      "text/html": [
       "<div>\n",
       "<style scoped>\n",
       "    .dataframe tbody tr th:only-of-type {\n",
       "        vertical-align: middle;\n",
       "    }\n",
       "\n",
       "    .dataframe tbody tr th {\n",
       "        vertical-align: top;\n",
       "    }\n",
       "\n",
       "    .dataframe thead th {\n",
       "        text-align: right;\n",
       "    }\n",
       "</style>\n",
       "<table border=\"1\" class=\"dataframe\">\n",
       "  <thead>\n",
       "    <tr style=\"text-align: right;\">\n",
       "      <th></th>\n",
       "      <th>Pregnancies</th>\n",
       "      <th>Glucose</th>\n",
       "      <th>BloodPressure</th>\n",
       "      <th>SkinThickness</th>\n",
       "      <th>Insulin</th>\n",
       "      <th>BMI</th>\n",
       "      <th>DiabetesPedigreeFunction</th>\n",
       "      <th>Age</th>\n",
       "      <th>Outcome</th>\n",
       "    </tr>\n",
       "  </thead>\n",
       "  <tbody>\n",
       "    <tr>\n",
       "      <th>763</th>\n",
       "      <td>10</td>\n",
       "      <td>101</td>\n",
       "      <td>76</td>\n",
       "      <td>48</td>\n",
       "      <td>180</td>\n",
       "      <td>32.9</td>\n",
       "      <td>0.171</td>\n",
       "      <td>63</td>\n",
       "      <td>0</td>\n",
       "    </tr>\n",
       "    <tr>\n",
       "      <th>764</th>\n",
       "      <td>2</td>\n",
       "      <td>122</td>\n",
       "      <td>70</td>\n",
       "      <td>27</td>\n",
       "      <td>0</td>\n",
       "      <td>36.8</td>\n",
       "      <td>0.340</td>\n",
       "      <td>27</td>\n",
       "      <td>0</td>\n",
       "    </tr>\n",
       "    <tr>\n",
       "      <th>765</th>\n",
       "      <td>5</td>\n",
       "      <td>121</td>\n",
       "      <td>72</td>\n",
       "      <td>23</td>\n",
       "      <td>112</td>\n",
       "      <td>26.2</td>\n",
       "      <td>0.245</td>\n",
       "      <td>30</td>\n",
       "      <td>0</td>\n",
       "    </tr>\n",
       "    <tr>\n",
       "      <th>766</th>\n",
       "      <td>1</td>\n",
       "      <td>126</td>\n",
       "      <td>60</td>\n",
       "      <td>0</td>\n",
       "      <td>0</td>\n",
       "      <td>30.1</td>\n",
       "      <td>0.349</td>\n",
       "      <td>47</td>\n",
       "      <td>1</td>\n",
       "    </tr>\n",
       "    <tr>\n",
       "      <th>767</th>\n",
       "      <td>1</td>\n",
       "      <td>93</td>\n",
       "      <td>70</td>\n",
       "      <td>31</td>\n",
       "      <td>0</td>\n",
       "      <td>30.4</td>\n",
       "      <td>0.315</td>\n",
       "      <td>23</td>\n",
       "      <td>0</td>\n",
       "    </tr>\n",
       "  </tbody>\n",
       "</table>\n",
       "</div>"
      ],
      "text/plain": [
       "     Pregnancies  Glucose  BloodPressure  SkinThickness  Insulin   BMI  \\\n",
       "763           10      101             76             48      180  32.9   \n",
       "764            2      122             70             27        0  36.8   \n",
       "765            5      121             72             23      112  26.2   \n",
       "766            1      126             60              0        0  30.1   \n",
       "767            1       93             70             31        0  30.4   \n",
       "\n",
       "     DiabetesPedigreeFunction  Age  Outcome  \n",
       "763                     0.171   63        0  \n",
       "764                     0.340   27        0  \n",
       "765                     0.245   30        0  \n",
       "766                     0.349   47        1  \n",
       "767                     0.315   23        0  "
      ]
     },
     "execution_count": 5,
     "metadata": {},
     "output_type": "execute_result"
    }
   ],
   "source": [
    "data_df.tail()"
   ]
  },
  {
   "cell_type": "code",
   "execution_count": 6,
   "id": "03a23014",
   "metadata": {
    "execution": {
     "iopub.execute_input": "2023-01-05T00:16:43.831784Z",
     "iopub.status.busy": "2023-01-05T00:16:43.831365Z",
     "iopub.status.idle": "2023-01-05T00:16:43.882239Z",
     "shell.execute_reply": "2023-01-05T00:16:43.880939Z"
    },
    "papermill": {
     "duration": 0.063214,
     "end_time": "2023-01-05T00:16:43.884888",
     "exception": false,
     "start_time": "2023-01-05T00:16:43.821674",
     "status": "completed"
    },
    "tags": []
   },
   "outputs": [
    {
     "data": {
      "text/html": [
       "<div>\n",
       "<style scoped>\n",
       "    .dataframe tbody tr th:only-of-type {\n",
       "        vertical-align: middle;\n",
       "    }\n",
       "\n",
       "    .dataframe tbody tr th {\n",
       "        vertical-align: top;\n",
       "    }\n",
       "\n",
       "    .dataframe thead th {\n",
       "        text-align: right;\n",
       "    }\n",
       "</style>\n",
       "<table border=\"1\" class=\"dataframe\">\n",
       "  <thead>\n",
       "    <tr style=\"text-align: right;\">\n",
       "      <th></th>\n",
       "      <th>count</th>\n",
       "      <th>mean</th>\n",
       "      <th>std</th>\n",
       "      <th>min</th>\n",
       "      <th>25%</th>\n",
       "      <th>50%</th>\n",
       "      <th>75%</th>\n",
       "      <th>max</th>\n",
       "    </tr>\n",
       "  </thead>\n",
       "  <tbody>\n",
       "    <tr>\n",
       "      <th>Pregnancies</th>\n",
       "      <td>768.0</td>\n",
       "      <td>3.845052</td>\n",
       "      <td>3.369578</td>\n",
       "      <td>0.000</td>\n",
       "      <td>1.00000</td>\n",
       "      <td>3.0000</td>\n",
       "      <td>6.00000</td>\n",
       "      <td>17.00</td>\n",
       "    </tr>\n",
       "    <tr>\n",
       "      <th>Glucose</th>\n",
       "      <td>768.0</td>\n",
       "      <td>120.894531</td>\n",
       "      <td>31.972618</td>\n",
       "      <td>0.000</td>\n",
       "      <td>99.00000</td>\n",
       "      <td>117.0000</td>\n",
       "      <td>140.25000</td>\n",
       "      <td>199.00</td>\n",
       "    </tr>\n",
       "    <tr>\n",
       "      <th>BloodPressure</th>\n",
       "      <td>768.0</td>\n",
       "      <td>69.105469</td>\n",
       "      <td>19.355807</td>\n",
       "      <td>0.000</td>\n",
       "      <td>62.00000</td>\n",
       "      <td>72.0000</td>\n",
       "      <td>80.00000</td>\n",
       "      <td>122.00</td>\n",
       "    </tr>\n",
       "    <tr>\n",
       "      <th>SkinThickness</th>\n",
       "      <td>768.0</td>\n",
       "      <td>20.536458</td>\n",
       "      <td>15.952218</td>\n",
       "      <td>0.000</td>\n",
       "      <td>0.00000</td>\n",
       "      <td>23.0000</td>\n",
       "      <td>32.00000</td>\n",
       "      <td>99.00</td>\n",
       "    </tr>\n",
       "    <tr>\n",
       "      <th>Insulin</th>\n",
       "      <td>768.0</td>\n",
       "      <td>79.799479</td>\n",
       "      <td>115.244002</td>\n",
       "      <td>0.000</td>\n",
       "      <td>0.00000</td>\n",
       "      <td>30.5000</td>\n",
       "      <td>127.25000</td>\n",
       "      <td>846.00</td>\n",
       "    </tr>\n",
       "    <tr>\n",
       "      <th>BMI</th>\n",
       "      <td>768.0</td>\n",
       "      <td>31.992578</td>\n",
       "      <td>7.884160</td>\n",
       "      <td>0.000</td>\n",
       "      <td>27.30000</td>\n",
       "      <td>32.0000</td>\n",
       "      <td>36.60000</td>\n",
       "      <td>67.10</td>\n",
       "    </tr>\n",
       "    <tr>\n",
       "      <th>DiabetesPedigreeFunction</th>\n",
       "      <td>768.0</td>\n",
       "      <td>0.471876</td>\n",
       "      <td>0.331329</td>\n",
       "      <td>0.078</td>\n",
       "      <td>0.24375</td>\n",
       "      <td>0.3725</td>\n",
       "      <td>0.62625</td>\n",
       "      <td>2.42</td>\n",
       "    </tr>\n",
       "    <tr>\n",
       "      <th>Age</th>\n",
       "      <td>768.0</td>\n",
       "      <td>33.240885</td>\n",
       "      <td>11.760232</td>\n",
       "      <td>21.000</td>\n",
       "      <td>24.00000</td>\n",
       "      <td>29.0000</td>\n",
       "      <td>41.00000</td>\n",
       "      <td>81.00</td>\n",
       "    </tr>\n",
       "    <tr>\n",
       "      <th>Outcome</th>\n",
       "      <td>768.0</td>\n",
       "      <td>0.348958</td>\n",
       "      <td>0.476951</td>\n",
       "      <td>0.000</td>\n",
       "      <td>0.00000</td>\n",
       "      <td>0.0000</td>\n",
       "      <td>1.00000</td>\n",
       "      <td>1.00</td>\n",
       "    </tr>\n",
       "  </tbody>\n",
       "</table>\n",
       "</div>"
      ],
      "text/plain": [
       "                          count        mean         std     min       25%  \\\n",
       "Pregnancies               768.0    3.845052    3.369578   0.000   1.00000   \n",
       "Glucose                   768.0  120.894531   31.972618   0.000  99.00000   \n",
       "BloodPressure             768.0   69.105469   19.355807   0.000  62.00000   \n",
       "SkinThickness             768.0   20.536458   15.952218   0.000   0.00000   \n",
       "Insulin                   768.0   79.799479  115.244002   0.000   0.00000   \n",
       "BMI                       768.0   31.992578    7.884160   0.000  27.30000   \n",
       "DiabetesPedigreeFunction  768.0    0.471876    0.331329   0.078   0.24375   \n",
       "Age                       768.0   33.240885   11.760232  21.000  24.00000   \n",
       "Outcome                   768.0    0.348958    0.476951   0.000   0.00000   \n",
       "\n",
       "                               50%        75%     max  \n",
       "Pregnancies                 3.0000    6.00000   17.00  \n",
       "Glucose                   117.0000  140.25000  199.00  \n",
       "BloodPressure              72.0000   80.00000  122.00  \n",
       "SkinThickness              23.0000   32.00000   99.00  \n",
       "Insulin                    30.5000  127.25000  846.00  \n",
       "BMI                        32.0000   36.60000   67.10  \n",
       "DiabetesPedigreeFunction    0.3725    0.62625    2.42  \n",
       "Age                        29.0000   41.00000   81.00  \n",
       "Outcome                     0.0000    1.00000    1.00  "
      ]
     },
     "execution_count": 6,
     "metadata": {},
     "output_type": "execute_result"
    }
   ],
   "source": [
    "data_df.describe().transpose()"
   ]
  },
  {
   "cell_type": "code",
   "execution_count": 7,
   "id": "b35faa03",
   "metadata": {
    "execution": {
     "iopub.execute_input": "2023-01-05T00:16:43.904142Z",
     "iopub.status.busy": "2023-01-05T00:16:43.903428Z",
     "iopub.status.idle": "2023-01-05T00:16:43.914340Z",
     "shell.execute_reply": "2023-01-05T00:16:43.913188Z"
    },
    "papermill": {
     "duration": 0.023439,
     "end_time": "2023-01-05T00:16:43.916941",
     "exception": false,
     "start_time": "2023-01-05T00:16:43.893502",
     "status": "completed"
    },
    "tags": []
   },
   "outputs": [
    {
     "data": {
      "text/plain": [
       "Pregnancies                 0\n",
       "Glucose                     0\n",
       "BloodPressure               0\n",
       "SkinThickness               0\n",
       "Insulin                     0\n",
       "BMI                         0\n",
       "DiabetesPedigreeFunction    0\n",
       "Age                         0\n",
       "Outcome                     0\n",
       "dtype: int64"
      ]
     },
     "execution_count": 7,
     "metadata": {},
     "output_type": "execute_result"
    }
   ],
   "source": [
    "data_df.isnull().sum().sort_values(ascending=False)"
   ]
  },
  {
   "cell_type": "code",
   "execution_count": 8,
   "id": "766353c8",
   "metadata": {
    "execution": {
     "iopub.execute_input": "2023-01-05T00:16:43.936600Z",
     "iopub.status.busy": "2023-01-05T00:16:43.936160Z",
     "iopub.status.idle": "2023-01-05T00:16:43.955033Z",
     "shell.execute_reply": "2023-01-05T00:16:43.953410Z"
    },
    "papermill": {
     "duration": 0.031991,
     "end_time": "2023-01-05T00:16:43.958245",
     "exception": false,
     "start_time": "2023-01-05T00:16:43.926254",
     "status": "completed"
    },
    "tags": []
   },
   "outputs": [
    {
     "name": "stdout",
     "output_type": "stream",
     "text": [
      "<class 'pandas.core.frame.DataFrame'>\n",
      "RangeIndex: 768 entries, 0 to 767\n",
      "Data columns (total 9 columns):\n",
      " #   Column                    Non-Null Count  Dtype  \n",
      "---  ------                    --------------  -----  \n",
      " 0   Pregnancies               768 non-null    int64  \n",
      " 1   Glucose                   768 non-null    int64  \n",
      " 2   BloodPressure             768 non-null    int64  \n",
      " 3   SkinThickness             768 non-null    int64  \n",
      " 4   Insulin                   768 non-null    int64  \n",
      " 5   BMI                       768 non-null    float64\n",
      " 6   DiabetesPedigreeFunction  768 non-null    float64\n",
      " 7   Age                       768 non-null    int64  \n",
      " 8   Outcome                   768 non-null    int64  \n",
      "dtypes: float64(2), int64(7)\n",
      "memory usage: 54.1 KB\n"
     ]
    }
   ],
   "source": [
    "data_df.info()"
   ]
  },
  {
   "cell_type": "code",
   "execution_count": 9,
   "id": "b8f54102",
   "metadata": {
    "execution": {
     "iopub.execute_input": "2023-01-05T00:16:43.978321Z",
     "iopub.status.busy": "2023-01-05T00:16:43.977865Z",
     "iopub.status.idle": "2023-01-05T00:16:43.998239Z",
     "shell.execute_reply": "2023-01-05T00:16:43.996953Z"
    },
    "papermill": {
     "duration": 0.033261,
     "end_time": "2023-01-05T00:16:44.000619",
     "exception": false,
     "start_time": "2023-01-05T00:16:43.967358",
     "status": "completed"
    },
    "tags": []
   },
   "outputs": [
    {
     "data": {
      "text/html": [
       "<div>\n",
       "<style scoped>\n",
       "    .dataframe tbody tr th:only-of-type {\n",
       "        vertical-align: middle;\n",
       "    }\n",
       "\n",
       "    .dataframe tbody tr th {\n",
       "        vertical-align: top;\n",
       "    }\n",
       "\n",
       "    .dataframe thead th {\n",
       "        text-align: right;\n",
       "    }\n",
       "</style>\n",
       "<table border=\"1\" class=\"dataframe\">\n",
       "  <thead>\n",
       "    <tr style=\"text-align: right;\">\n",
       "      <th></th>\n",
       "      <th>Pregnancies</th>\n",
       "      <th>Outcome</th>\n",
       "    </tr>\n",
       "  </thead>\n",
       "  <tbody>\n",
       "    <tr>\n",
       "      <th>16</th>\n",
       "      <td>17</td>\n",
       "      <td>1.000000</td>\n",
       "    </tr>\n",
       "    <tr>\n",
       "      <th>15</th>\n",
       "      <td>15</td>\n",
       "      <td>1.000000</td>\n",
       "    </tr>\n",
       "    <tr>\n",
       "      <th>14</th>\n",
       "      <td>14</td>\n",
       "      <td>1.000000</td>\n",
       "    </tr>\n",
       "    <tr>\n",
       "      <th>9</th>\n",
       "      <td>9</td>\n",
       "      <td>0.642857</td>\n",
       "    </tr>\n",
       "    <tr>\n",
       "      <th>11</th>\n",
       "      <td>11</td>\n",
       "      <td>0.636364</td>\n",
       "    </tr>\n",
       "    <tr>\n",
       "      <th>8</th>\n",
       "      <td>8</td>\n",
       "      <td>0.578947</td>\n",
       "    </tr>\n",
       "    <tr>\n",
       "      <th>7</th>\n",
       "      <td>7</td>\n",
       "      <td>0.555556</td>\n",
       "    </tr>\n",
       "    <tr>\n",
       "      <th>13</th>\n",
       "      <td>13</td>\n",
       "      <td>0.500000</td>\n",
       "    </tr>\n",
       "    <tr>\n",
       "      <th>12</th>\n",
       "      <td>12</td>\n",
       "      <td>0.444444</td>\n",
       "    </tr>\n",
       "    <tr>\n",
       "      <th>10</th>\n",
       "      <td>10</td>\n",
       "      <td>0.416667</td>\n",
       "    </tr>\n",
       "    <tr>\n",
       "      <th>5</th>\n",
       "      <td>5</td>\n",
       "      <td>0.368421</td>\n",
       "    </tr>\n",
       "    <tr>\n",
       "      <th>3</th>\n",
       "      <td>3</td>\n",
       "      <td>0.360000</td>\n",
       "    </tr>\n",
       "    <tr>\n",
       "      <th>0</th>\n",
       "      <td>0</td>\n",
       "      <td>0.342342</td>\n",
       "    </tr>\n",
       "    <tr>\n",
       "      <th>4</th>\n",
       "      <td>4</td>\n",
       "      <td>0.338235</td>\n",
       "    </tr>\n",
       "    <tr>\n",
       "      <th>6</th>\n",
       "      <td>6</td>\n",
       "      <td>0.320000</td>\n",
       "    </tr>\n",
       "    <tr>\n",
       "      <th>1</th>\n",
       "      <td>1</td>\n",
       "      <td>0.214815</td>\n",
       "    </tr>\n",
       "    <tr>\n",
       "      <th>2</th>\n",
       "      <td>2</td>\n",
       "      <td>0.184466</td>\n",
       "    </tr>\n",
       "  </tbody>\n",
       "</table>\n",
       "</div>"
      ],
      "text/plain": [
       "    Pregnancies   Outcome\n",
       "16           17  1.000000\n",
       "15           15  1.000000\n",
       "14           14  1.000000\n",
       "9             9  0.642857\n",
       "11           11  0.636364\n",
       "8             8  0.578947\n",
       "7             7  0.555556\n",
       "13           13  0.500000\n",
       "12           12  0.444444\n",
       "10           10  0.416667\n",
       "5             5  0.368421\n",
       "3             3  0.360000\n",
       "0             0  0.342342\n",
       "4             4  0.338235\n",
       "6             6  0.320000\n",
       "1             1  0.214815\n",
       "2             2  0.184466"
      ]
     },
     "execution_count": 9,
     "metadata": {},
     "output_type": "execute_result"
    }
   ],
   "source": [
    "data_df[['Pregnancies','Outcome']].groupby(\n",
    "['Pregnancies'],as_index=False).mean().sort_values(by='Outcome',ascending=False)"
   ]
  },
  {
   "cell_type": "code",
   "execution_count": 10,
   "id": "24766238",
   "metadata": {
    "execution": {
     "iopub.execute_input": "2023-01-05T00:16:44.020602Z",
     "iopub.status.busy": "2023-01-05T00:16:44.020196Z",
     "iopub.status.idle": "2023-01-05T00:16:44.459588Z",
     "shell.execute_reply": "2023-01-05T00:16:44.458078Z"
    },
    "papermill": {
     "duration": 0.452548,
     "end_time": "2023-01-05T00:16:44.462484",
     "exception": false,
     "start_time": "2023-01-05T00:16:44.009936",
     "status": "completed"
    },
    "tags": []
   },
   "outputs": [
    {
     "data": {
      "text/plain": [
       "<AxesSubplot:xlabel='Pregnancies', ylabel='Count'>"
      ]
     },
     "execution_count": 10,
     "metadata": {},
     "output_type": "execute_result"
    },
    {
     "data": {
      "image/png": "[encoded data removed]",
      "text/plain": [
       "<Figure size 432x288 with 1 Axes>"
      ]
     },
     "metadata": {
      "needs_background": "light"
     },
     "output_type": "display_data"
    }
   ],
   "source": [
    "sns.histplot(data=data_df, x=\"Pregnancies\",hue='Outcome',bins=30)"
   ]
  },
  {
   "cell_type": "code",
   "execution_count": 11,
   "id": "a76e1d97",
   "metadata": {
    "execution": {
     "iopub.execute_input": "2023-01-05T00:16:44.485205Z",
     "iopub.status.busy": "2023-01-05T00:16:44.484090Z",
     "iopub.status.idle": "2023-01-05T00:16:45.176564Z",
     "shell.execute_reply": "2023-01-05T00:16:45.175089Z"
    },
    "papermill": {
     "duration": 0.707326,
     "end_time": "2023-01-05T00:16:45.179540",
     "exception": false,
     "start_time": "2023-01-05T00:16:44.472214",
     "status": "completed"
    },
    "tags": []
   },
   "outputs": [
    {
     "data": {
      "text/plain": [
       "<seaborn.axisgrid.FacetGrid at 0x7f592f175ed0>"
      ]
     },
     "execution_count": 11,
     "metadata": {},
     "output_type": "execute_result"
    },
    {
     "data": {
      "image/png": "[encoded data removed]",
      "text/plain": [
       "<Figure size 728x360 with 2 Axes>"
      ]
     },
     "metadata": {
      "needs_background": "light"
     },
     "output_type": "display_data"
    }
   ],
   "source": [
    "grid = sns.FacetGrid(data_df, col='Outcome',height=5,aspect=1)\n",
    "grid.map(plt.hist,'Age',alpha=.5, bins=30)\n",
    "grid.add_legend()"
   ]
  },
  {
   "cell_type": "code",
   "execution_count": 12,
   "id": "ec305398",
   "metadata": {
    "execution": {
     "iopub.execute_input": "2023-01-05T00:16:45.201183Z",
     "iopub.status.busy": "2023-01-05T00:16:45.200711Z",
     "iopub.status.idle": "2023-01-05T00:16:46.835376Z",
     "shell.execute_reply": "2023-01-05T00:16:46.834223Z"
    },
    "papermill": {
     "duration": 1.648636,
     "end_time": "2023-01-05T00:16:46.837961",
     "exception": false,
     "start_time": "2023-01-05T00:16:45.189325",
     "status": "completed"
    },
    "tags": []
   },
   "outputs": [
    {
     "data": {
      "image/png": "[encoded data removed]",
      "text/plain": [
       "<Figure size 1440x1440 with 9 Axes>"
      ]
     },
     "metadata": {
      "needs_background": "light"
     },
     "output_type": "display_data"
    }
   ],
   "source": [
    "p = data_df.hist(figsize = (20,20))"
   ]
  },
  {
   "cell_type": "code",
   "execution_count": 13,
   "id": "36c46c0a",
   "metadata": {
    "execution": {
     "iopub.execute_input": "2023-01-05T00:16:46.860303Z",
     "iopub.status.busy": "2023-01-05T00:16:46.859887Z",
     "iopub.status.idle": "2023-01-05T00:16:46.874586Z",
     "shell.execute_reply": "2023-01-05T00:16:46.873192Z"
    },
    "papermill": {
     "duration": 0.028643,
     "end_time": "2023-01-05T00:16:46.876970",
     "exception": false,
     "start_time": "2023-01-05T00:16:46.848327",
     "status": "completed"
    },
    "tags": []
   },
   "outputs": [
    {
     "data": {
      "text/html": [
       "<div>\n",
       "<style scoped>\n",
       "    .dataframe tbody tr th:only-of-type {\n",
       "        vertical-align: middle;\n",
       "    }\n",
       "\n",
       "    .dataframe tbody tr th {\n",
       "        vertical-align: top;\n",
       "    }\n",
       "\n",
       "    .dataframe thead th {\n",
       "        text-align: right;\n",
       "    }\n",
       "</style>\n",
       "<table border=\"1\" class=\"dataframe\">\n",
       "  <thead>\n",
       "    <tr style=\"text-align: right;\">\n",
       "      <th></th>\n",
       "      <th>Pregnancies</th>\n",
       "      <th>Glucose</th>\n",
       "      <th>BloodPressure</th>\n",
       "      <th>SkinThickness</th>\n",
       "      <th>Insulin</th>\n",
       "      <th>BMI</th>\n",
       "      <th>DiabetesPedigreeFunction</th>\n",
       "      <th>Age</th>\n",
       "      <th>Outcome</th>\n",
       "    </tr>\n",
       "  </thead>\n",
       "  <tbody>\n",
       "    <tr>\n",
       "      <th>0</th>\n",
       "      <td>6</td>\n",
       "      <td>148</td>\n",
       "      <td>72</td>\n",
       "      <td>35</td>\n",
       "      <td>0</td>\n",
       "      <td>33.6</td>\n",
       "      <td>0.627</td>\n",
       "      <td>50</td>\n",
       "      <td>1</td>\n",
       "    </tr>\n",
       "    <tr>\n",
       "      <th>1</th>\n",
       "      <td>1</td>\n",
       "      <td>85</td>\n",
       "      <td>66</td>\n",
       "      <td>29</td>\n",
       "      <td>0</td>\n",
       "      <td>26.6</td>\n",
       "      <td>0.351</td>\n",
       "      <td>31</td>\n",
       "      <td>0</td>\n",
       "    </tr>\n",
       "    <tr>\n",
       "      <th>2</th>\n",
       "      <td>8</td>\n",
       "      <td>183</td>\n",
       "      <td>64</td>\n",
       "      <td>0</td>\n",
       "      <td>0</td>\n",
       "      <td>23.3</td>\n",
       "      <td>0.672</td>\n",
       "      <td>32</td>\n",
       "      <td>1</td>\n",
       "    </tr>\n",
       "    <tr>\n",
       "      <th>3</th>\n",
       "      <td>1</td>\n",
       "      <td>89</td>\n",
       "      <td>66</td>\n",
       "      <td>23</td>\n",
       "      <td>94</td>\n",
       "      <td>28.1</td>\n",
       "      <td>0.167</td>\n",
       "      <td>21</td>\n",
       "      <td>0</td>\n",
       "    </tr>\n",
       "    <tr>\n",
       "      <th>4</th>\n",
       "      <td>0</td>\n",
       "      <td>137</td>\n",
       "      <td>40</td>\n",
       "      <td>35</td>\n",
       "      <td>168</td>\n",
       "      <td>43.1</td>\n",
       "      <td>2.288</td>\n",
       "      <td>33</td>\n",
       "      <td>1</td>\n",
       "    </tr>\n",
       "  </tbody>\n",
       "</table>\n",
       "</div>"
      ],
      "text/plain": [
       "   Pregnancies  Glucose  BloodPressure  SkinThickness  Insulin   BMI  \\\n",
       "0            6      148             72             35        0  33.6   \n",
       "1            1       85             66             29        0  26.6   \n",
       "2            8      183             64              0        0  23.3   \n",
       "3            1       89             66             23       94  28.1   \n",
       "4            0      137             40             35      168  43.1   \n",
       "\n",
       "   DiabetesPedigreeFunction  Age  Outcome  \n",
       "0                     0.627   50        1  \n",
       "1                     0.351   31        0  \n",
       "2                     0.672   32        1  \n",
       "3                     0.167   21        0  \n",
       "4                     2.288   33        1  "
      ]
     },
     "execution_count": 13,
     "metadata": {},
     "output_type": "execute_result"
    }
   ],
   "source": [
    "data_df.head()"
   ]
  },
  {
   "cell_type": "code",
   "execution_count": 14,
   "id": "b788044a",
   "metadata": {
    "execution": {
     "iopub.execute_input": "2023-01-05T00:16:46.900404Z",
     "iopub.status.busy": "2023-01-05T00:16:46.899975Z",
     "iopub.status.idle": "2023-01-05T00:16:46.910362Z",
     "shell.execute_reply": "2023-01-05T00:16:46.908989Z"
    },
    "papermill": {
     "duration": 0.025061,
     "end_time": "2023-01-05T00:16:46.912808",
     "exception": false,
     "start_time": "2023-01-05T00:16:46.887747",
     "status": "completed"
    },
    "tags": []
   },
   "outputs": [],
   "source": [
    "#Replace Zeroes By Nans\n",
    "x= data_df[['Glucose','BloodPressure','SkinThickness','Insulin','BMI']]\n",
    "x =x.replace(0,np.NaN)\n",
    "data_df[['Glucose','BloodPressure','SkinThickness','Insulin','BMI']]=x"
   ]
  },
  {
   "cell_type": "code",
   "execution_count": 15,
   "id": "88426a0e",
   "metadata": {
    "execution": {
     "iopub.execute_input": "2023-01-05T00:16:46.936579Z",
     "iopub.status.busy": "2023-01-05T00:16:46.936097Z",
     "iopub.status.idle": "2023-01-05T00:16:46.947549Z",
     "shell.execute_reply": "2023-01-05T00:16:46.946362Z"
    },
    "papermill": {
     "duration": 0.026561,
     "end_time": "2023-01-05T00:16:46.949974",
     "exception": false,
     "start_time": "2023-01-05T00:16:46.923413",
     "status": "completed"
    },
    "tags": []
   },
   "outputs": [
    {
     "data": {
      "text/plain": [
       "Insulin                     374\n",
       "SkinThickness               227\n",
       "BloodPressure                35\n",
       "BMI                          11\n",
       "Glucose                       5\n",
       "Pregnancies                   0\n",
       "DiabetesPedigreeFunction      0\n",
       "Age                           0\n",
       "Outcome                       0\n",
       "dtype: int64"
      ]
     },
     "execution_count": 15,
     "metadata": {},
     "output_type": "execute_result"
    }
   ],
   "source": [
    "data_df.isnull().sum().sort_values(ascending=False)"
   ]
  },
  {
   "cell_type": "code",
   "execution_count": 16,
   "id": "96021985",
   "metadata": {
    "execution": {
     "iopub.execute_input": "2023-01-05T00:16:46.972828Z",
     "iopub.status.busy": "2023-01-05T00:16:46.972433Z",
     "iopub.status.idle": "2023-01-05T00:16:46.983326Z",
     "shell.execute_reply": "2023-01-05T00:16:46.982197Z"
    },
    "papermill": {
     "duration": 0.025334,
     "end_time": "2023-01-05T00:16:46.985921",
     "exception": false,
     "start_time": "2023-01-05T00:16:46.960587",
     "status": "completed"
    },
    "tags": []
   },
   "outputs": [],
   "source": [
    "data_df['Glucose'].fillna(\n",
    "    data_df['Glucose'].mean(), inplace = True)\n",
    "data_df['BloodPressure'].fillna(\n",
    "    data_df['BloodPressure'].mean(), inplace = True)\n",
    "data_df['SkinThickness'].fillna(\n",
    "    data_df['SkinThickness'].median(), inplace = True)\n",
    "data_df['Insulin'].fillna(\n",
    "    data_df['Insulin'].median(), inplace = True)\n",
    "data_df['BMI'].fillna(\n",
    "    data_df['BMI'].median(), inplace = True)"
   ]
  },
  {
   "cell_type": "code",
   "execution_count": 17,
   "id": "537cb5e0",
   "metadata": {
    "execution": {
     "iopub.execute_input": "2023-01-05T00:16:47.009393Z",
     "iopub.status.busy": "2023-01-05T00:16:47.008966Z",
     "iopub.status.idle": "2023-01-05T00:16:47.018793Z",
     "shell.execute_reply": "2023-01-05T00:16:47.017609Z"
    },
    "papermill": {
     "duration": 0.024525,
     "end_time": "2023-01-05T00:16:47.021257",
     "exception": false,
     "start_time": "2023-01-05T00:16:46.996732",
     "status": "completed"
    },
    "tags": []
   },
   "outputs": [
    {
     "data": {
      "text/plain": [
       "Pregnancies                 0\n",
       "Glucose                     0\n",
       "BloodPressure               0\n",
       "SkinThickness               0\n",
       "Insulin                     0\n",
       "BMI                         0\n",
       "DiabetesPedigreeFunction    0\n",
       "Age                         0\n",
       "Outcome                     0\n",
       "dtype: int64"
      ]
     },
     "execution_count": 17,
     "metadata": {},
     "output_type": "execute_result"
    }
   ],
   "source": [
    "data_df.isnull().sum().sort_values(ascending=False)"
   ]
  },
  {
   "cell_type": "code",
   "execution_count": 18,
   "id": "82ac8be3",
   "metadata": {
    "execution": {
     "iopub.execute_input": "2023-01-05T00:16:47.044506Z",
     "iopub.status.busy": "2023-01-05T00:16:47.044119Z",
     "iopub.status.idle": "2023-01-05T00:16:47.079464Z",
     "shell.execute_reply": "2023-01-05T00:16:47.078218Z"
    },
    "papermill": {
     "duration": 0.050022,
     "end_time": "2023-01-05T00:16:47.081890",
     "exception": false,
     "start_time": "2023-01-05T00:16:47.031868",
     "status": "completed"
    },
    "tags": []
   },
   "outputs": [
    {
     "data": {
      "text/html": [
       "<div>\n",
       "<style scoped>\n",
       "    .dataframe tbody tr th:only-of-type {\n",
       "        vertical-align: middle;\n",
       "    }\n",
       "\n",
       "    .dataframe tbody tr th {\n",
       "        vertical-align: top;\n",
       "    }\n",
       "\n",
       "    .dataframe thead th {\n",
       "        text-align: right;\n",
       "    }\n",
       "</style>\n",
       "<table border=\"1\" class=\"dataframe\">\n",
       "  <thead>\n",
       "    <tr style=\"text-align: right;\">\n",
       "      <th></th>\n",
       "      <th>0</th>\n",
       "      <th>1</th>\n",
       "      <th>2</th>\n",
       "      <th>3</th>\n",
       "      <th>4</th>\n",
       "      <th>5</th>\n",
       "      <th>6</th>\n",
       "      <th>7</th>\n",
       "      <th>8</th>\n",
       "      <th>9</th>\n",
       "      <th>...</th>\n",
       "      <th>70</th>\n",
       "      <th>71</th>\n",
       "      <th>72</th>\n",
       "      <th>73</th>\n",
       "      <th>74</th>\n",
       "      <th>75</th>\n",
       "      <th>76</th>\n",
       "      <th>77</th>\n",
       "      <th>78</th>\n",
       "      <th>79</th>\n",
       "    </tr>\n",
       "  </thead>\n",
       "  <tbody>\n",
       "    <tr>\n",
       "      <th>Pregnancies</th>\n",
       "      <td>6.000</td>\n",
       "      <td>1.000</td>\n",
       "      <td>8.000</td>\n",
       "      <td>1.000</td>\n",
       "      <td>0.000</td>\n",
       "      <td>5.000</td>\n",
       "      <td>3.000</td>\n",
       "      <td>10.000000</td>\n",
       "      <td>2.000</td>\n",
       "      <td>8.000</td>\n",
       "      <td>...</td>\n",
       "      <td>2.000</td>\n",
       "      <td>5.000</td>\n",
       "      <td>13.000</td>\n",
       "      <td>4.000</td>\n",
       "      <td>1.000</td>\n",
       "      <td>1.000000</td>\n",
       "      <td>7.000</td>\n",
       "      <td>5.00</td>\n",
       "      <td>0.000000</td>\n",
       "      <td>2.000</td>\n",
       "    </tr>\n",
       "    <tr>\n",
       "      <th>Glucose</th>\n",
       "      <td>148.000</td>\n",
       "      <td>85.000</td>\n",
       "      <td>183.000</td>\n",
       "      <td>89.000</td>\n",
       "      <td>137.000</td>\n",
       "      <td>116.000</td>\n",
       "      <td>78.000</td>\n",
       "      <td>115.000000</td>\n",
       "      <td>197.000</td>\n",
       "      <td>125.000</td>\n",
       "      <td>...</td>\n",
       "      <td>100.000</td>\n",
       "      <td>139.000</td>\n",
       "      <td>126.000</td>\n",
       "      <td>129.000</td>\n",
       "      <td>79.000</td>\n",
       "      <td>121.686763</td>\n",
       "      <td>62.000</td>\n",
       "      <td>95.00</td>\n",
       "      <td>131.000000</td>\n",
       "      <td>112.000</td>\n",
       "    </tr>\n",
       "    <tr>\n",
       "      <th>BloodPressure</th>\n",
       "      <td>72.000</td>\n",
       "      <td>66.000</td>\n",
       "      <td>64.000</td>\n",
       "      <td>66.000</td>\n",
       "      <td>40.000</td>\n",
       "      <td>74.000</td>\n",
       "      <td>50.000</td>\n",
       "      <td>72.405184</td>\n",
       "      <td>70.000</td>\n",
       "      <td>96.000</td>\n",
       "      <td>...</td>\n",
       "      <td>66.000</td>\n",
       "      <td>64.000</td>\n",
       "      <td>90.000</td>\n",
       "      <td>86.000</td>\n",
       "      <td>75.000</td>\n",
       "      <td>48.000000</td>\n",
       "      <td>78.000</td>\n",
       "      <td>72.00</td>\n",
       "      <td>72.405184</td>\n",
       "      <td>66.000</td>\n",
       "    </tr>\n",
       "    <tr>\n",
       "      <th>SkinThickness</th>\n",
       "      <td>35.000</td>\n",
       "      <td>29.000</td>\n",
       "      <td>29.000</td>\n",
       "      <td>23.000</td>\n",
       "      <td>35.000</td>\n",
       "      <td>29.000</td>\n",
       "      <td>32.000</td>\n",
       "      <td>29.000000</td>\n",
       "      <td>45.000</td>\n",
       "      <td>29.000</td>\n",
       "      <td>...</td>\n",
       "      <td>20.000</td>\n",
       "      <td>35.000</td>\n",
       "      <td>29.000</td>\n",
       "      <td>20.000</td>\n",
       "      <td>30.000</td>\n",
       "      <td>20.000000</td>\n",
       "      <td>29.000</td>\n",
       "      <td>33.00</td>\n",
       "      <td>29.000000</td>\n",
       "      <td>22.000</td>\n",
       "    </tr>\n",
       "    <tr>\n",
       "      <th>Insulin</th>\n",
       "      <td>125.000</td>\n",
       "      <td>125.000</td>\n",
       "      <td>125.000</td>\n",
       "      <td>94.000</td>\n",
       "      <td>168.000</td>\n",
       "      <td>125.000</td>\n",
       "      <td>88.000</td>\n",
       "      <td>125.000000</td>\n",
       "      <td>543.000</td>\n",
       "      <td>125.000</td>\n",
       "      <td>...</td>\n",
       "      <td>90.000</td>\n",
       "      <td>140.000</td>\n",
       "      <td>125.000</td>\n",
       "      <td>270.000</td>\n",
       "      <td>125.000</td>\n",
       "      <td>125.000000</td>\n",
       "      <td>125.000</td>\n",
       "      <td>125.00</td>\n",
       "      <td>125.000000</td>\n",
       "      <td>125.000</td>\n",
       "    </tr>\n",
       "    <tr>\n",
       "      <th>BMI</th>\n",
       "      <td>33.600</td>\n",
       "      <td>26.600</td>\n",
       "      <td>23.300</td>\n",
       "      <td>28.100</td>\n",
       "      <td>43.100</td>\n",
       "      <td>25.600</td>\n",
       "      <td>31.000</td>\n",
       "      <td>35.300000</td>\n",
       "      <td>30.500</td>\n",
       "      <td>32.300</td>\n",
       "      <td>...</td>\n",
       "      <td>32.900</td>\n",
       "      <td>28.600</td>\n",
       "      <td>43.400</td>\n",
       "      <td>35.100</td>\n",
       "      <td>32.000</td>\n",
       "      <td>24.700000</td>\n",
       "      <td>32.600</td>\n",
       "      <td>37.70</td>\n",
       "      <td>43.200000</td>\n",
       "      <td>25.000</td>\n",
       "    </tr>\n",
       "    <tr>\n",
       "      <th>DiabetesPedigreeFunction</th>\n",
       "      <td>0.627</td>\n",
       "      <td>0.351</td>\n",
       "      <td>0.672</td>\n",
       "      <td>0.167</td>\n",
       "      <td>2.288</td>\n",
       "      <td>0.201</td>\n",
       "      <td>0.248</td>\n",
       "      <td>0.134000</td>\n",
       "      <td>0.158</td>\n",
       "      <td>0.232</td>\n",
       "      <td>...</td>\n",
       "      <td>0.867</td>\n",
       "      <td>0.411</td>\n",
       "      <td>0.583</td>\n",
       "      <td>0.231</td>\n",
       "      <td>0.396</td>\n",
       "      <td>0.140000</td>\n",
       "      <td>0.391</td>\n",
       "      <td>0.37</td>\n",
       "      <td>0.270000</td>\n",
       "      <td>0.307</td>\n",
       "    </tr>\n",
       "    <tr>\n",
       "      <th>Age</th>\n",
       "      <td>50.000</td>\n",
       "      <td>31.000</td>\n",
       "      <td>32.000</td>\n",
       "      <td>21.000</td>\n",
       "      <td>33.000</td>\n",
       "      <td>30.000</td>\n",
       "      <td>26.000</td>\n",
       "      <td>29.000000</td>\n",
       "      <td>53.000</td>\n",
       "      <td>54.000</td>\n",
       "      <td>...</td>\n",
       "      <td>28.000</td>\n",
       "      <td>26.000</td>\n",
       "      <td>42.000</td>\n",
       "      <td>23.000</td>\n",
       "      <td>22.000</td>\n",
       "      <td>22.000000</td>\n",
       "      <td>41.000</td>\n",
       "      <td>27.00</td>\n",
       "      <td>26.000000</td>\n",
       "      <td>24.000</td>\n",
       "    </tr>\n",
       "    <tr>\n",
       "      <th>Outcome</th>\n",
       "      <td>1.000</td>\n",
       "      <td>0.000</td>\n",
       "      <td>1.000</td>\n",
       "      <td>0.000</td>\n",
       "      <td>1.000</td>\n",
       "      <td>0.000</td>\n",
       "      <td>1.000</td>\n",
       "      <td>0.000000</td>\n",
       "      <td>1.000</td>\n",
       "      <td>1.000</td>\n",
       "      <td>...</td>\n",
       "      <td>1.000</td>\n",
       "      <td>0.000</td>\n",
       "      <td>1.000</td>\n",
       "      <td>0.000</td>\n",
       "      <td>0.000</td>\n",
       "      <td>0.000000</td>\n",
       "      <td>0.000</td>\n",
       "      <td>0.00</td>\n",
       "      <td>1.000000</td>\n",
       "      <td>0.000</td>\n",
       "    </tr>\n",
       "  </tbody>\n",
       "</table>\n",
       "<p>9 rows × 80 columns</p>\n",
       "</div>"
      ],
      "text/plain": [
       "                               0        1        2       3        4        5   \\\n",
       "Pregnancies                 6.000    1.000    8.000   1.000    0.000    5.000   \n",
       "Glucose                   148.000   85.000  183.000  89.000  137.000  116.000   \n",
       "BloodPressure              72.000   66.000   64.000  66.000   40.000   74.000   \n",
       "SkinThickness              35.000   29.000   29.000  23.000   35.000   29.000   \n",
       "Insulin                   125.000  125.000  125.000  94.000  168.000  125.000   \n",
       "BMI                        33.600   26.600   23.300  28.100   43.100   25.600   \n",
       "DiabetesPedigreeFunction    0.627    0.351    0.672   0.167    2.288    0.201   \n",
       "Age                        50.000   31.000   32.000  21.000   33.000   30.000   \n",
       "Outcome                     1.000    0.000    1.000   0.000    1.000    0.000   \n",
       "\n",
       "                              6           7        8        9   ...       70  \\\n",
       "Pregnancies                3.000   10.000000    2.000    8.000  ...    2.000   \n",
       "Glucose                   78.000  115.000000  197.000  125.000  ...  100.000   \n",
       "BloodPressure             50.000   72.405184   70.000   96.000  ...   66.000   \n",
       "SkinThickness             32.000   29.000000   45.000   29.000  ...   20.000   \n",
       "Insulin                   88.000  125.000000  543.000  125.000  ...   90.000   \n",
       "BMI                       31.000   35.300000   30.500   32.300  ...   32.900   \n",
       "DiabetesPedigreeFunction   0.248    0.134000    0.158    0.232  ...    0.867   \n",
       "Age                       26.000   29.000000   53.000   54.000  ...   28.000   \n",
       "Outcome                    1.000    0.000000    1.000    1.000  ...    1.000   \n",
       "\n",
       "                               71       72       73       74          75  \\\n",
       "Pregnancies                 5.000   13.000    4.000    1.000    1.000000   \n",
       "Glucose                   139.000  126.000  129.000   79.000  121.686763   \n",
       "BloodPressure              64.000   90.000   86.000   75.000   48.000000   \n",
       "SkinThickness              35.000   29.000   20.000   30.000   20.000000   \n",
       "Insulin                   140.000  125.000  270.000  125.000  125.000000   \n",
       "BMI                        28.600   43.400   35.100   32.000   24.700000   \n",
       "DiabetesPedigreeFunction    0.411    0.583    0.231    0.396    0.140000   \n",
       "Age                        26.000   42.000   23.000   22.000   22.000000   \n",
       "Outcome                     0.000    1.000    0.000    0.000    0.000000   \n",
       "\n",
       "                               76      77          78       79  \n",
       "Pregnancies                 7.000    5.00    0.000000    2.000  \n",
       "Glucose                    62.000   95.00  131.000000  112.000  \n",
       "BloodPressure              78.000   72.00   72.405184   66.000  \n",
       "SkinThickness              29.000   33.00   29.000000   22.000  \n",
       "Insulin                   125.000  125.00  125.000000  125.000  \n",
       "BMI                        32.600   37.70   43.200000   25.000  \n",
       "DiabetesPedigreeFunction    0.391    0.37    0.270000    0.307  \n",
       "Age                        41.000   27.00   26.000000   24.000  \n",
       "Outcome                     0.000    0.00    1.000000    0.000  \n",
       "\n",
       "[9 rows x 80 columns]"
      ]
     },
     "execution_count": 18,
     "metadata": {},
     "output_type": "execute_result"
    }
   ],
   "source": [
    "data_df.head(80).T"
   ]
  },
  {
   "cell_type": "code",
   "execution_count": 19,
   "id": "5d7125d2",
   "metadata": {
    "execution": {
     "iopub.execute_input": "2023-01-05T00:16:47.106883Z",
     "iopub.status.busy": "2023-01-05T00:16:47.106493Z",
     "iopub.status.idle": "2023-01-05T00:16:48.300268Z",
     "shell.execute_reply": "2023-01-05T00:16:48.299028Z"
    },
    "papermill": {
     "duration": 1.211512,
     "end_time": "2023-01-05T00:16:48.304756",
     "exception": false,
     "start_time": "2023-01-05T00:16:47.093244",
     "status": "completed"
    },
    "tags": []
   },
   "outputs": [
    {
     "data": {
      "image/png": "[encoded data removed]",
      "text/plain": [
       "<Figure size 2160x1440 with 2 Axes>"
      ]
     },
     "metadata": {},
     "output_type": "display_data"
    }
   ],
   "source": [
    "sns.set(font_scale=2.4)\n",
    "plt.figure(figsize=(30,20))\n",
    "plot = sns.heatmap(data_df.corr(), annot=True, cmap=\"crest\")"
   ]
  },
  {
   "cell_type": "code",
   "execution_count": 20,
   "id": "267a6fc2",
   "metadata": {
    "execution": {
     "iopub.execute_input": "2023-01-05T00:16:48.336204Z",
     "iopub.status.busy": "2023-01-05T00:16:48.335450Z",
     "iopub.status.idle": "2023-01-05T00:16:48.375103Z",
     "shell.execute_reply": "2023-01-05T00:16:48.374041Z"
    },
    "papermill": {
     "duration": 0.058337,
     "end_time": "2023-01-05T00:16:48.377908",
     "exception": false,
     "start_time": "2023-01-05T00:16:48.319571",
     "status": "completed"
    },
    "tags": []
   },
   "outputs": [
    {
     "data": {
      "text/html": [
       "<div>\n",
       "<style scoped>\n",
       "    .dataframe tbody tr th:only-of-type {\n",
       "        vertical-align: middle;\n",
       "    }\n",
       "\n",
       "    .dataframe tbody tr th {\n",
       "        vertical-align: top;\n",
       "    }\n",
       "\n",
       "    .dataframe thead th {\n",
       "        text-align: right;\n",
       "    }\n",
       "</style>\n",
       "<table border=\"1\" class=\"dataframe\">\n",
       "  <thead>\n",
       "    <tr style=\"text-align: right;\">\n",
       "      <th></th>\n",
       "      <th>count</th>\n",
       "      <th>mean</th>\n",
       "      <th>std</th>\n",
       "      <th>min</th>\n",
       "      <th>25%</th>\n",
       "      <th>50%</th>\n",
       "      <th>75%</th>\n",
       "      <th>max</th>\n",
       "    </tr>\n",
       "  </thead>\n",
       "  <tbody>\n",
       "    <tr>\n",
       "      <th>Pregnancies</th>\n",
       "      <td>768.0</td>\n",
       "      <td>3.845052</td>\n",
       "      <td>3.369578</td>\n",
       "      <td>0.000</td>\n",
       "      <td>1.00000</td>\n",
       "      <td>3.000000</td>\n",
       "      <td>6.00000</td>\n",
       "      <td>17.00</td>\n",
       "    </tr>\n",
       "    <tr>\n",
       "      <th>Glucose</th>\n",
       "      <td>768.0</td>\n",
       "      <td>121.686763</td>\n",
       "      <td>30.435949</td>\n",
       "      <td>44.000</td>\n",
       "      <td>99.75000</td>\n",
       "      <td>117.000000</td>\n",
       "      <td>140.25000</td>\n",
       "      <td>199.00</td>\n",
       "    </tr>\n",
       "    <tr>\n",
       "      <th>BloodPressure</th>\n",
       "      <td>768.0</td>\n",
       "      <td>72.405184</td>\n",
       "      <td>12.096346</td>\n",
       "      <td>24.000</td>\n",
       "      <td>64.00000</td>\n",
       "      <td>72.202592</td>\n",
       "      <td>80.00000</td>\n",
       "      <td>122.00</td>\n",
       "    </tr>\n",
       "    <tr>\n",
       "      <th>SkinThickness</th>\n",
       "      <td>768.0</td>\n",
       "      <td>29.108073</td>\n",
       "      <td>8.791221</td>\n",
       "      <td>7.000</td>\n",
       "      <td>25.00000</td>\n",
       "      <td>29.000000</td>\n",
       "      <td>32.00000</td>\n",
       "      <td>99.00</td>\n",
       "    </tr>\n",
       "    <tr>\n",
       "      <th>Insulin</th>\n",
       "      <td>768.0</td>\n",
       "      <td>140.671875</td>\n",
       "      <td>86.383060</td>\n",
       "      <td>14.000</td>\n",
       "      <td>121.50000</td>\n",
       "      <td>125.000000</td>\n",
       "      <td>127.25000</td>\n",
       "      <td>846.00</td>\n",
       "    </tr>\n",
       "    <tr>\n",
       "      <th>BMI</th>\n",
       "      <td>768.0</td>\n",
       "      <td>32.455208</td>\n",
       "      <td>6.875177</td>\n",
       "      <td>18.200</td>\n",
       "      <td>27.50000</td>\n",
       "      <td>32.300000</td>\n",
       "      <td>36.60000</td>\n",
       "      <td>67.10</td>\n",
       "    </tr>\n",
       "    <tr>\n",
       "      <th>DiabetesPedigreeFunction</th>\n",
       "      <td>768.0</td>\n",
       "      <td>0.471876</td>\n",
       "      <td>0.331329</td>\n",
       "      <td>0.078</td>\n",
       "      <td>0.24375</td>\n",
       "      <td>0.372500</td>\n",
       "      <td>0.62625</td>\n",
       "      <td>2.42</td>\n",
       "    </tr>\n",
       "    <tr>\n",
       "      <th>Age</th>\n",
       "      <td>768.0</td>\n",
       "      <td>33.240885</td>\n",
       "      <td>11.760232</td>\n",
       "      <td>21.000</td>\n",
       "      <td>24.00000</td>\n",
       "      <td>29.000000</td>\n",
       "      <td>41.00000</td>\n",
       "      <td>81.00</td>\n",
       "    </tr>\n",
       "    <tr>\n",
       "      <th>Outcome</th>\n",
       "      <td>768.0</td>\n",
       "      <td>0.348958</td>\n",
       "      <td>0.476951</td>\n",
       "      <td>0.000</td>\n",
       "      <td>0.00000</td>\n",
       "      <td>0.000000</td>\n",
       "      <td>1.00000</td>\n",
       "      <td>1.00</td>\n",
       "    </tr>\n",
       "  </tbody>\n",
       "</table>\n",
       "</div>"
      ],
      "text/plain": [
       "                          count        mean        std     min        25%  \\\n",
       "Pregnancies               768.0    3.845052   3.369578   0.000    1.00000   \n",
       "Glucose                   768.0  121.686763  30.435949  44.000   99.75000   \n",
       "BloodPressure             768.0   72.405184  12.096346  24.000   64.00000   \n",
       "SkinThickness             768.0   29.108073   8.791221   7.000   25.00000   \n",
       "Insulin                   768.0  140.671875  86.383060  14.000  121.50000   \n",
       "BMI                       768.0   32.455208   6.875177  18.200   27.50000   \n",
       "DiabetesPedigreeFunction  768.0    0.471876   0.331329   0.078    0.24375   \n",
       "Age                       768.0   33.240885  11.760232  21.000   24.00000   \n",
       "Outcome                   768.0    0.348958   0.476951   0.000    0.00000   \n",
       "\n",
       "                                 50%        75%     max  \n",
       "Pregnancies                 3.000000    6.00000   17.00  \n",
       "Glucose                   117.000000  140.25000  199.00  \n",
       "BloodPressure              72.202592   80.00000  122.00  \n",
       "SkinThickness              29.000000   32.00000   99.00  \n",
       "Insulin                   125.000000  127.25000  846.00  \n",
       "BMI                        32.300000   36.60000   67.10  \n",
       "DiabetesPedigreeFunction    0.372500    0.62625    2.42  \n",
       "Age                        29.000000   41.00000   81.00  \n",
       "Outcome                     0.000000    1.00000    1.00  "
      ]
     },
     "execution_count": 20,
     "metadata": {},
     "output_type": "execute_result"
    }
   ],
   "source": [
    "data_df.describe().transpose()"
   ]
  },
  {
   "cell_type": "code",
   "execution_count": 21,
   "id": "3abd3ad7",
   "metadata": {
    "execution": {
     "iopub.execute_input": "2023-01-05T00:16:48.411157Z",
     "iopub.status.busy": "2023-01-05T00:16:48.409965Z",
     "iopub.status.idle": "2023-01-05T00:16:48.571873Z",
     "shell.execute_reply": "2023-01-05T00:16:48.570710Z"
    },
    "papermill": {
     "duration": 0.181795,
     "end_time": "2023-01-05T00:16:48.574926",
     "exception": false,
     "start_time": "2023-01-05T00:16:48.393131",
     "status": "completed"
    },
    "tags": []
   },
   "outputs": [],
   "source": [
    "#standarization\n",
    "from sklearn.preprocessing import StandardScaler\n",
    "sc = StandardScaler()\n",
    "x = pd.DataFrame(sc.fit_transform(data_df.drop(['Outcome'],axis=1),),\n",
    "                columns=['Pregnancies','Glucose','BloodPressure','SkinThickness','Insulin','BMI','DiabetesPedigreeFunction','Age'])"
   ]
  },
  {
   "cell_type": "code",
   "execution_count": 22,
   "id": "ac94df7d",
   "metadata": {
    "execution": {
     "iopub.execute_input": "2023-01-05T00:16:48.607579Z",
     "iopub.status.busy": "2023-01-05T00:16:48.607186Z",
     "iopub.status.idle": "2023-01-05T00:16:48.622930Z",
     "shell.execute_reply": "2023-01-05T00:16:48.621769Z"
    },
    "papermill": {
     "duration": 0.03484,
     "end_time": "2023-01-05T00:16:48.625493",
     "exception": false,
     "start_time": "2023-01-05T00:16:48.590653",
     "status": "completed"
    },
    "tags": []
   },
   "outputs": [
    {
     "data": {
      "text/html": [
       "<div>\n",
       "<style scoped>\n",
       "    .dataframe tbody tr th:only-of-type {\n",
       "        vertical-align: middle;\n",
       "    }\n",
       "\n",
       "    .dataframe tbody tr th {\n",
       "        vertical-align: top;\n",
       "    }\n",
       "\n",
       "    .dataframe thead th {\n",
       "        text-align: right;\n",
       "    }\n",
       "</style>\n",
       "<table border=\"1\" class=\"dataframe\">\n",
       "  <thead>\n",
       "    <tr style=\"text-align: right;\">\n",
       "      <th></th>\n",
       "      <th>Pregnancies</th>\n",
       "      <th>Glucose</th>\n",
       "      <th>BloodPressure</th>\n",
       "      <th>SkinThickness</th>\n",
       "      <th>Insulin</th>\n",
       "      <th>BMI</th>\n",
       "      <th>DiabetesPedigreeFunction</th>\n",
       "      <th>Age</th>\n",
       "    </tr>\n",
       "  </thead>\n",
       "  <tbody>\n",
       "    <tr>\n",
       "      <th>0</th>\n",
       "      <td>0.639947</td>\n",
       "      <td>0.865108</td>\n",
       "      <td>-0.033518</td>\n",
       "      <td>0.670643</td>\n",
       "      <td>-0.181541</td>\n",
       "      <td>0.166619</td>\n",
       "      <td>0.468492</td>\n",
       "      <td>1.425995</td>\n",
       "    </tr>\n",
       "    <tr>\n",
       "      <th>1</th>\n",
       "      <td>-0.844885</td>\n",
       "      <td>-1.206162</td>\n",
       "      <td>-0.529859</td>\n",
       "      <td>-0.012301</td>\n",
       "      <td>-0.181541</td>\n",
       "      <td>-0.852200</td>\n",
       "      <td>-0.365061</td>\n",
       "      <td>-0.190672</td>\n",
       "    </tr>\n",
       "    <tr>\n",
       "      <th>2</th>\n",
       "      <td>1.233880</td>\n",
       "      <td>2.015813</td>\n",
       "      <td>-0.695306</td>\n",
       "      <td>-0.012301</td>\n",
       "      <td>-0.181541</td>\n",
       "      <td>-1.332500</td>\n",
       "      <td>0.604397</td>\n",
       "      <td>-0.105584</td>\n",
       "    </tr>\n",
       "    <tr>\n",
       "      <th>3</th>\n",
       "      <td>-0.844885</td>\n",
       "      <td>-1.074652</td>\n",
       "      <td>-0.529859</td>\n",
       "      <td>-0.695245</td>\n",
       "      <td>-0.540642</td>\n",
       "      <td>-0.633881</td>\n",
       "      <td>-0.920763</td>\n",
       "      <td>-1.041549</td>\n",
       "    </tr>\n",
       "    <tr>\n",
       "      <th>4</th>\n",
       "      <td>-1.141852</td>\n",
       "      <td>0.503458</td>\n",
       "      <td>-2.680669</td>\n",
       "      <td>0.670643</td>\n",
       "      <td>0.316566</td>\n",
       "      <td>1.549303</td>\n",
       "      <td>5.484909</td>\n",
       "      <td>-0.020496</td>\n",
       "    </tr>\n",
       "  </tbody>\n",
       "</table>\n",
       "</div>"
      ],
      "text/plain": [
       "   Pregnancies   Glucose  BloodPressure  SkinThickness   Insulin       BMI  \\\n",
       "0     0.639947  0.865108      -0.033518       0.670643 -0.181541  0.166619   \n",
       "1    -0.844885 -1.206162      -0.529859      -0.012301 -0.181541 -0.852200   \n",
       "2     1.233880  2.015813      -0.695306      -0.012301 -0.181541 -1.332500   \n",
       "3    -0.844885 -1.074652      -0.529859      -0.695245 -0.540642 -0.633881   \n",
       "4    -1.141852  0.503458      -2.680669       0.670643  0.316566  1.549303   \n",
       "\n",
       "   DiabetesPedigreeFunction       Age  \n",
       "0                  0.468492  1.425995  \n",
       "1                 -0.365061 -0.190672  \n",
       "2                  0.604397 -0.105584  \n",
       "3                 -0.920763 -1.041549  \n",
       "4                  5.484909 -0.020496  "
      ]
     },
     "execution_count": 22,
     "metadata": {},
     "output_type": "execute_result"
    }
   ],
   "source": [
    "x.head()"
   ]
  },
  {
   "cell_type": "code",
   "execution_count": 23,
   "id": "40744f7b",
   "metadata": {
    "execution": {
     "iopub.execute_input": "2023-01-05T00:16:48.658085Z",
     "iopub.status.busy": "2023-01-05T00:16:48.657632Z",
     "iopub.status.idle": "2023-01-05T00:16:48.662985Z",
     "shell.execute_reply": "2023-01-05T00:16:48.661594Z"
    },
    "papermill": {
     "duration": 0.02467,
     "end_time": "2023-01-05T00:16:48.665330",
     "exception": false,
     "start_time": "2023-01-05T00:16:48.640660",
     "status": "completed"
    },
    "tags": []
   },
   "outputs": [],
   "source": [
    "y= data_df['Outcome']"
   ]
  },
  {
   "cell_type": "code",
   "execution_count": 24,
   "id": "39859037",
   "metadata": {
    "execution": {
     "iopub.execute_input": "2023-01-05T00:16:48.699035Z",
     "iopub.status.busy": "2023-01-05T00:16:48.698204Z",
     "iopub.status.idle": "2023-01-05T00:16:48.767349Z",
     "shell.execute_reply": "2023-01-05T00:16:48.766207Z"
    },
    "papermill": {
     "duration": 0.090029,
     "end_time": "2023-01-05T00:16:48.770395",
     "exception": false,
     "start_time": "2023-01-05T00:16:48.680366",
     "status": "completed"
    },
    "tags": []
   },
   "outputs": [],
   "source": [
    "from sklearn.model_selection import train_test_split\n",
    "x_train,x_test,y_train,y_test = train_test_split(x,y,test_size=1/3,random_state=42,stratify=y)"
   ]
  },
  {
   "cell_type": "code",
   "execution_count": 25,
   "id": "94b9a643",
   "metadata": {
    "execution": {
     "iopub.execute_input": "2023-01-05T00:16:48.802834Z",
     "iopub.status.busy": "2023-01-05T00:16:48.802399Z",
     "iopub.status.idle": "2023-01-05T00:16:49.446582Z",
     "shell.execute_reply": "2023-01-05T00:16:49.445213Z"
    },
    "papermill": {
     "duration": 0.66382,
     "end_time": "2023-01-05T00:16:49.449501",
     "exception": false,
     "start_time": "2023-01-05T00:16:48.785681",
     "status": "completed"
    },
    "tags": []
   },
   "outputs": [],
   "source": [
    "from sklearn.neighbors import KNeighborsClassifier\n",
    "\n",
    "\n",
    "test_scores = []\n",
    "train_scores = []\n",
    "\n",
    "for i in range(1,15):\n",
    "\n",
    "    knn = KNeighborsClassifier(i)\n",
    "    knn.fit(x_train,y_train)\n",
    "    \n",
    "    train_scores.append(knn.score(x_train,y_train))\n",
    "    test_scores.append(knn.score(x_test,y_test))"
   ]
  },
  {
   "cell_type": "code",
   "execution_count": 26,
   "id": "1bdcde4c",
   "metadata": {
    "execution": {
     "iopub.execute_input": "2023-01-05T00:16:49.481837Z",
     "iopub.status.busy": "2023-01-05T00:16:49.481324Z",
     "iopub.status.idle": "2023-01-05T00:16:49.502124Z",
     "shell.execute_reply": "2023-01-05T00:16:49.501252Z"
    },
    "papermill": {
     "duration": 0.039612,
     "end_time": "2023-01-05T00:16:49.504272",
     "exception": false,
     "start_time": "2023-01-05T00:16:49.464660",
     "status": "completed"
    },
    "tags": []
   },
   "outputs": [
    {
     "data": {
      "text/plain": [
       "0.73046875"
      ]
     },
     "execution_count": 26,
     "metadata": {},
     "output_type": "execute_result"
    }
   ],
   "source": [
    "# k =1 \n",
    "knn = KNeighborsClassifier(1)\n",
    "knn.fit(x_train,y_train)\n",
    "knn.score(x_test,y_test)"
   ]
  },
  {
   "cell_type": "code",
   "execution_count": 27,
   "id": "49cbb5b1",
   "metadata": {
    "execution": {
     "iopub.execute_input": "2023-01-05T00:16:49.537033Z",
     "iopub.status.busy": "2023-01-05T00:16:49.536367Z",
     "iopub.status.idle": "2023-01-05T00:16:49.556531Z",
     "shell.execute_reply": "2023-01-05T00:16:49.555478Z"
    },
    "papermill": {
     "duration": 0.039447,
     "end_time": "2023-01-05T00:16:49.558854",
     "exception": false,
     "start_time": "2023-01-05T00:16:49.519407",
     "status": "completed"
    },
    "tags": []
   },
   "outputs": [
    {
     "data": {
      "text/plain": [
       "0.74609375"
      ]
     },
     "execution_count": 27,
     "metadata": {},
     "output_type": "execute_result"
    }
   ],
   "source": [
    "# k =3\n",
    "knn = KNeighborsClassifier(3)\n",
    "knn.fit(x_train,y_train)\n",
    "knn.score(x_test,y_test)"
   ]
  },
  {
   "cell_type": "code",
   "execution_count": 28,
   "id": "d82ed0e2",
   "metadata": {
    "execution": {
     "iopub.execute_input": "2023-01-05T00:16:49.592205Z",
     "iopub.status.busy": "2023-01-05T00:16:49.591583Z",
     "iopub.status.idle": "2023-01-05T00:16:49.612823Z",
     "shell.execute_reply": "2023-01-05T00:16:49.611594Z"
    },
    "papermill": {
     "duration": 0.041134,
     "end_time": "2023-01-05T00:16:49.615349",
     "exception": false,
     "start_time": "2023-01-05T00:16:49.574215",
     "status": "completed"
    },
    "tags": []
   },
   "outputs": [
    {
     "data": {
      "text/plain": [
       "0.7421875"
      ]
     },
     "execution_count": 28,
     "metadata": {},
     "output_type": "execute_result"
    }
   ],
   "source": [
    "# k =5  \n",
    "knn = KNeighborsClassifier(5)\n",
    "knn.fit(x_train,y_train)\n",
    "knn.score(x_test,y_test)"
   ]
  },
  {
   "cell_type": "code",
   "execution_count": 29,
   "id": "bb75cf52",
   "metadata": {
    "execution": {
     "iopub.execute_input": "2023-01-05T00:16:49.650951Z",
     "iopub.status.busy": "2023-01-05T00:16:49.649924Z",
     "iopub.status.idle": "2023-01-05T00:16:49.672677Z",
     "shell.execute_reply": "2023-01-05T00:16:49.671502Z"
    },
    "papermill": {
     "duration": 0.042779,
     "end_time": "2023-01-05T00:16:49.675061",
     "exception": false,
     "start_time": "2023-01-05T00:16:49.632282",
     "status": "completed"
    },
    "tags": []
   },
   "outputs": [
    {
     "data": {
      "text/plain": [
       "0.74609375"
      ]
     },
     "execution_count": 29,
     "metadata": {},
     "output_type": "execute_result"
    }
   ],
   "source": [
    "# k =7\n",
    "knn = KNeighborsClassifier(7)\n",
    "knn.fit(x_train,y_train)\n",
    "knn.score(x_test,y_test)"
   ]
  },
  {
   "cell_type": "code",
   "execution_count": 30,
   "id": "ac0eb6c7",
   "metadata": {
    "execution": {
     "iopub.execute_input": "2023-01-05T00:16:49.708059Z",
     "iopub.status.busy": "2023-01-05T00:16:49.707625Z",
     "iopub.status.idle": "2023-01-05T00:16:49.730506Z",
     "shell.execute_reply": "2023-01-05T00:16:49.729310Z"
    },
    "papermill": {
     "duration": 0.042514,
     "end_time": "2023-01-05T00:16:49.733059",
     "exception": false,
     "start_time": "2023-01-05T00:16:49.690545",
     "status": "completed"
    },
    "tags": []
   },
   "outputs": [
    {
     "data": {
      "text/plain": [
       "0.74609375"
      ]
     },
     "execution_count": 30,
     "metadata": {},
     "output_type": "execute_result"
    }
   ],
   "source": [
    "# k =9\n",
    "knn = KNeighborsClassifier(9)\n",
    "knn.fit(x_train,y_train)\n",
    "knn.score(x_test,y_test)"
   ]
  },
  {
   "cell_type": "code",
   "execution_count": 31,
   "id": "9fc820e6",
   "metadata": {
    "execution": {
     "iopub.execute_input": "2023-01-05T00:16:49.769187Z",
     "iopub.status.busy": "2023-01-05T00:16:49.767952Z",
     "iopub.status.idle": "2023-01-05T00:16:49.792380Z",
     "shell.execute_reply": "2023-01-05T00:16:49.791210Z"
    },
    "papermill": {
     "duration": 0.045955,
     "end_time": "2023-01-05T00:16:49.795220",
     "exception": false,
     "start_time": "2023-01-05T00:16:49.749265",
     "status": "completed"
    },
    "tags": []
   },
   "outputs": [
    {
     "data": {
      "text/plain": [
       "0.765625"
      ]
     },
     "execution_count": 31,
     "metadata": {},
     "output_type": "execute_result"
    }
   ],
   "source": [
    "# k =11\n",
    "knn = KNeighborsClassifier(11)\n",
    "knn.fit(x_train,y_train)\n",
    "knn.score(x_test,y_test)\n",
    "#The best accuracy when k=11"
   ]
  }
 ],
 "metadata": {
  "kernelspec": {
   "display_name": "Python 3",
   "language": "python",
   "name": "python3"
  },
  "language_info": {
   "codemirror_mode": {
    "name": "ipython",
    "version": 3
   },
   "file_extension": ".py",
   "mimetype": "text/x-python",
   "name": "python",
   "nbconvert_exporter": "python",
   "pygments_lexer": "ipython3",
   "version": "3.7.12"
  },
  "papermill": {
   "default_parameters": {},
   "duration": 17.35088,
   "end_time": "2023-01-05T00:16:50.734866",
   "environment_variables": {},
   "exception": null,
   "input_path": "__notebook__.ipynb",
   "output_path": "__notebook__.ipynb",
   "parameters": {},
   "start_time": "2023-01-05T00:16:33.383986",
   "version": "2.3.4"
  }
 },
 "nbformat": 4,
 "nbformat_minor": 5
}
